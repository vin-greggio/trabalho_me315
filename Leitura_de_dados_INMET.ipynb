{
  "nbformat": 4,
  "nbformat_minor": 0,
  "metadata": {
    "colab": {
      "provenance": []
    },
    "kernelspec": {
      "name": "python3",
      "display_name": "Python 3"
    },
    "language_info": {
      "name": "python"
    }
  },
  "cells": [
    {
      "cell_type": "code",
      "execution_count": null,
      "metadata": {
        "id": "x6wR26QZ8W-n"
      },
      "outputs": [],
      "source": [
        "from google.colab import drive\n",
        "drive.mount('/content/drive')"
      ]
    },
    {
      "cell_type": "code",
      "source": [
        "import zipfile\n",
        "import os\n",
        "\n",
        "base_path = '/content/drive/MyDrive/Banco com zip/'\n",
        "\n",
        "for year in range(2000, 2025):\n",
        "    zip_file_path = os.path.join(base_path, str(year) + '.zip')\n",
        "    if os.path.exists(zip_file_path):\n",
        "        with zipfile.ZipFile(zip_file_path, 'r') as zip_ref:\n",
        "            extraction_path = os.path.join('diretorio_destino', str(year))\n",
        "            zip_ref.extractall(extraction_path)\n",
        "            print(f\"Files from {zip_file_path} extracted to {extraction_path}\")\n",
        "    else:\n",
        "        print(f\"Zip file not found for year {year}: {zip_file_path}\")"
      ],
      "metadata": {
        "id": "RpSwsknz8hDo"
      },
      "execution_count": null,
      "outputs": []
    },
    {
      "cell_type": "code",
      "source": [
        "import os\n",
        "import polars as pl\n",
        "import sqlite3\n",
        "\n",
        "def map_polars_to_sql_type(polars_type):\n",
        "    if polars_type == pl.Int32 or polars_type == pl.Int64:\n",
        "        return \"INTEGER\"\n",
        "    elif polars_type == pl.Float32 or polars_type == pl.Float64:\n",
        "        return \"REAL\"\n",
        "    else:\n",
        "        return \"TEXT\"\n",
        "\n",
        "def processar_e_salvar_no_sql(ano, chunk_size=1000):\n",
        "    # conectando ao banco de dados SQLite (será criado se não existir)\n",
        "    db_path = '/content/dados_anos.db'\n",
        "    conn = sqlite3.connect(db_path)\n",
        "    cursor = conn.cursor()\n",
        "\n",
        "    diretorio_destino = f'/content/diretorio_destino/{ano}/{ano}' if ano < 2020 else f'/content/diretorio_destino/{ano}'\n",
        "\n",
        "    arquivos_csv = [f for f in os.listdir(diretorio_destino) if f.lower().endswith(\".csv\")]\n",
        "\n",
        "    tabela_criada = False  # Flag para garantir q a tabela seja criada só uma vez\n",
        "\n",
        "    for arquivo in arquivos_csv:\n",
        "        caminho_completo = os.path.join(diretorio_destino, arquivo)\n",
        "        estacao = arquivo.split('_')[3]\n",
        "\n",
        "        # captura as colunas e tipos\n",
        "        first_chunk = pl.read_csv(\n",
        "            caminho_completo,\n",
        "            skip_rows=8,\n",
        "            separator=\";\",\n",
        "            decimal_comma=True,\n",
        "            encoding=\"ISO-8859-1\",\n",
        "            infer_schema_length=10000\n",
        "        ).with_columns(pl.lit(estacao).alias(\"estacao\"))\n",
        "\n",
        "        colunas = first_chunk.columns\n",
        "        tipos = [map_polars_to_sql_type(dtype) for dtype in first_chunk.dtypes]\n",
        "\n",
        "        if not tabela_criada:\n",
        "            cursor.execute(f\"DROP TABLE IF EXISTS dados_{ano}\")\n",
        "\n",
        "            colunas_sql = \", \".join([f'\"{col}\" {tipo}' for col, tipo in zip(colunas, tipos)])\n",
        "            cursor.execute(f\"CREATE TABLE dados_{ano} ({colunas_sql})\")\n",
        "            conn.commit()\n",
        "            tabela_criada = True\n",
        "        for chunk_df in pl.read_csv(\n",
        "                caminho_completo,\n",
        "                skip_rows=8,\n",
        "                separator=\";\",\n",
        "                decimal_comma=True,\n",
        "                encoding=\"ISO-8859-1\",\n",
        "                infer_schema_length=10000,\n",
        "                ignore_errors=True,\n",
        "                null_values=\"-9999\",\n",
        "        ).iter_slices(chunk_size):\n",
        "            chunk_df = chunk_df.with_columns(pl.lit(estacao).alias(\"estacao\"))\n",
        "\n",
        "            registros = chunk_df.to_numpy().tolist()\n",
        "            placeholders = ', '.join(['?' for _ in colunas])\n",
        "\n",
        "            cursor.executemany(\n",
        "                f'INSERT INTO dados_{ano} VALUES ({placeholders})',\n",
        "                registros\n",
        "            )\n",
        "\n",
        "    conn.commit()\n",
        "    conn.close()\n",
        "    print(f\"Dados do ano {ano} processados e salvos no banco de dados com sucesso!\")\n",
        "\n",
        "for ano in range(2000, 2025):\n",
        "    processar_e_salvar_no_sql(ano, chunk_size=1000)\n",
        "    print(f\"Data para o ano {ano} processada e armazenada com sucesso!\")\n"
      ],
      "metadata": {
        "id": "d5NxvXWwBAcr"
      },
      "execution_count": null,
      "outputs": []
    },
    {
      "cell_type": "code",
      "source": [
        "import pandas as pd"
      ],
      "metadata": {
        "id": "dZaP9DkGBJJ1"
      },
      "execution_count": null,
      "outputs": []
    },
    {
      "cell_type": "code",
      "source": [
        "db_path = '/content/dados_anos.db'\n",
        "conn = sqlite3.connect(db_path)"
      ],
      "metadata": {
        "id": "FfiFBVgYBMiU"
      },
      "execution_count": null,
      "outputs": []
    },
    {
      "cell_type": "code",
      "source": [
        "pd.read_sql_query(\"\"\"SELECT * FROM dados_2000\"\"\", conn)"
      ],
      "metadata": {
        "id": "LccuodvZBxI5"
      },
      "execution_count": null,
      "outputs": []
    },
    {
      "cell_type": "code",
      "source": [
        "pd.read_sql_query(\"\"\"SELECT \"DATA (YYYY-MM-DD)\", `HORA (UTC)`,`TEMPERATURA DO AR - BULBO SECO, HORARIA (°C)`, estacao FROM dados_2000\n",
        "ORDER BY `TEMPERATURA DO AR - BULBO SECO, HORARIA (°C)` DESC LIMIT 1\"\"\", conn)"
      ],
      "metadata": {
        "id": "MGL7TvnLBGJv"
      },
      "execution_count": null,
      "outputs": []
    }
  ]
}